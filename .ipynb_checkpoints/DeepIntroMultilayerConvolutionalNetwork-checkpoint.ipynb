{
 "cells": [
  {
   "cell_type": "code",
   "execution_count": null,
   "metadata": {
    "collapsed": true
   },
   "outputs": [],
   "source": [
    "#Import data, numpy (just in case)\n",
    "\n",
    "import tensorflow.examples.tutorials.mnist as input_data\n",
    "import numpy as np\n",
    "\n",
    "mnist = input_data.input_data.read_data_sets(\"MNIST_data/\", one_hot=True)"
   ]
  },
  {
   "cell_type": "code",
   "execution_count": 2,
   "metadata": {
    "collapsed": true
   },
   "outputs": [],
   "source": [
    "### IMPORT TENSORFLOW AND INITIATE INTERACTIVE SESSION\n",
    "\n",
    "import tensorflow as tf\n",
    "sess = tf.InteractiveSession()"
   ]
  },
  {
   "cell_type": "code",
   "execution_count": 8,
   "metadata": {
    "collapsed": true
   },
   "outputs": [],
   "source": [
    "### PREPPING SOFTMAX WITH ONE LINEAR LAYER\n",
    "\n",
    "x = tf.placeholder(tf.float32, shape = [None, 784])\n",
    "y_ = tf.placeholder(tf.float32, shape = [None,10])\n",
    "\n",
    "W = tf.Variable(tf.zeros([784,10]))\n",
    "b = tf.Variable(tf.zeros([10]))\n",
    "\n",
    "sess.run(tf.initialize_all_variables())\n",
    "\n",
    "y = tf.nn.softmax(tf.matmul(x,W) + b)\n",
    "cross_entropy = -tf.reduce_sum(y_*tf.log(y))\n",
    "\n",
    "train_step = tf.train.GradientDescentOptimizer(0.01).minimize(cross_entropy)\n",
    "\n",
    "for i in range(1000):\n",
    "    batch = mnist.train.next_batch(50)\n",
    "    train_step.run(feed_dict={x:batch[0], y_:batch[1]})"
   ]
  },
  {
   "cell_type": "code",
   "execution_count": 9,
   "metadata": {
    "collapsed": false
   },
   "outputs": [
    {
     "name": "stdout",
     "output_type": "stream",
     "text": [
      "0.9092\n"
     ]
    }
   ],
   "source": [
    "### EVALUATE MODEL\n",
    "\n",
    "correct_prediction = tf.equal(tf.argmax(y,1), tf.argmax(y_,1))\n",
    "accuracy = tf.reduce_mean(tf.cast(correct_prediction, tf.float32))\n",
    "print(accuracy.eval(feed_dict={x: mnist.test.images, y_: mnist.test.labels}))"
   ]
  },
  {
   "cell_type": "code",
   "execution_count": 14,
   "metadata": {
    "collapsed": true
   },
   "outputs": [],
   "source": [
    "### BUILDING A CONVOLUTIONAL NEURAL NETWORK\n",
    "\n",
    "## DEFINE SOME HELPER FUNCTIONS\n",
    "\n",
    "def weight_variable(shape):\n",
    "    initial = tf.truncated_normal(shape, stddev=0.1)\n",
    "    return tf.Variable(initial)\n",
    "\n",
    "def bias_variable(shape):\n",
    "    initial = tf.constant(0.1, shape=shape)\n",
    "    return tf.Variable(initial)\n",
    "\n",
    "def conv2d(x, W):\n",
    "    return tf.nn.conv2d(x, W, strides = [1,1,1,1], padding = 'SAME')\n",
    "\n",
    "def max_pool_2x2(x):\n",
    "    return tf.nn.max_pool(x, ksize = [1,2,2,1],\n",
    "                         strides = [1,2,2,1], padding = 'SAME')"
   ]
  },
  {
   "cell_type": "code",
   "execution_count": 20,
   "metadata": {
    "collapsed": false
   },
   "outputs": [],
   "source": [
    "## FIRST CONVOLUTIONAL LAYER\n",
    "\n",
    "# GENERATE WEIGHTS AND BIAS\n",
    "\n",
    "W_conv1 = weight_variable([5,5,1,32]) # weights for 5x5 patch, 1 input channel, 32 output channels\n",
    "b_conv1 = bias_variable([32]) # 32 biases\n",
    "\n",
    "x_image = tf.reshape(x, [-1,28,28,1]) # reshape x into a 4d tensor: 28x28 image, 1 color channel (whats dim-1?)\n",
    "\n",
    "# CONVOLVE X_IMAGE WITH WEIGHTS, ADD BIAS, APPLY ReLU FUNCTION, MAX POOL\n",
    "\n",
    "h_conv1 = tf.nn.relu(conv2d(x_image, W_conv1) + b_conv1)\n",
    "h_pool1 = max_pool_2x2(h_conv1)\n",
    "\n",
    "\n",
    "##\n",
    "## The pooling is to consolidate the image into fewer pixels. By so doing, the image becomes more tractable for the\n",
    "## neural network. In this model, we go from 28x28, to 14x14, to 7x7 through our convolutional layers\n",
    "##"
   ]
  },
  {
   "cell_type": "code",
   "execution_count": 21,
   "metadata": {
    "collapsed": false
   },
   "outputs": [],
   "source": [
    "## SECOND CONVOLUTIONAL LAYER\n",
    "\n",
    "# GENERATE WEIGHTS AND BIAS\n",
    "\n",
    "W_conv2 = weight_variable([5,5,32,64]) # weights for 5x5 patch, 1 input channel, 32 output channels\n",
    "b_conv2 = bias_variable([64]) # 32 biases\n",
    "\n",
    "# CONVOLVE X_IMAGE WITH WEIGHTS, ADD BIAS, APPLY ReLU FUNCTION, MAX POOL\n",
    "\n",
    "h_conv2 = tf.nn.relu(conv2d(h_pool1, W_conv2) + b_conv2)\n",
    "h_pool2 = max_pool_2x2(h_conv2)"
   ]
  },
  {
   "cell_type": "code",
   "execution_count": 23,
   "metadata": {
    "collapsed": true
   },
   "outputs": [],
   "source": [
    "## DENSELY CONNECTED LAYER\n",
    "\n",
    "# RESHAPE TENSOR FROM POOLING LAYER INTO BATCH OF VECTORS, MULT BY WEIGHT MATRIX, ADD BIAS, APPLY ReLU\n",
    "\n",
    "W_fc1 = weight_variable([7 * 7 * 64, 1024])\n",
    "b_fc1 = bias_variable([1024])\n",
    "\n",
    "h_pool2_flat = tf.reshape(h_pool2, [-1,7*7*64])\n",
    "h_fc1 = tf.nn.relu(tf.matmul(h_pool2_flat, W_fc1) + b_fc1)\n",
    "\n",
    "# DROPOUT (to reduce overfitting)\n",
    "\n",
    "keep_prob = tf.placeholder(tf.float32) # placeholder allows dropout to be turned off during testing\n",
    "h_fc1_drop = tf.nn.dropout(h_fc1, keep_prob)"
   ]
  },
  {
   "cell_type": "code",
   "execution_count": 24,
   "metadata": {
    "collapsed": true
   },
   "outputs": [],
   "source": [
    "## READOUT LAYER\n",
    "\n",
    "# ADD SOFTMAX LAYER\n",
    "\n",
    "W_fc2 = weight_variable([1024,10])\n",
    "b_fc2 = bias_variable([10])\n",
    "\n",
    "y_conv = tf.nn.softmax(tf.matmul(h_fc1_drop, W_fc2) + b_fc2)"
   ]
  },
  {
   "cell_type": "code",
   "execution_count": null,
   "metadata": {
    "collapsed": true
   },
   "outputs": [],
   "source": [
    "## TRAIN AND EVALUATE\n",
    "\n",
    "# GENERATE CROSS-ENTROPY AND SEARCH GRADIENT\n",
    "cross_entropy = -tf.reduce_sum(y_*tf.log(y_conv))\n",
    "train_step = tf.train.AdamOptimizer(1e-4).minimize(cross_entropy) # uses more sophisticated adam search function\n",
    "\n",
    "# COMPARE PREDICTION TO TRUTH\n",
    "correct_prediction = tf.equal(tf.argmax(y_conv, 1), tf.argmax(y_, 1))\n",
    "accuracy = tf.reduce_mean(tf.cast(correct_prediction, tf.float32))\n",
    "\n",
    "# INITIALIZE GRAPH\n",
    "sess.run(tf.initialize_all_variables())\n",
    "\n",
    "# RUN 20,000 SUBSAMPLES FOR TRAINING\n",
    "for i in range(20000):\n",
    "    batch = mnist.train.next_batch(50)\n",
    "    if i%100 == 0: # provide accuracy updates every 100 runs\n",
    "        train_accuracy = accuracy"
   ]
  }
 ],
 "metadata": {
  "kernelspec": {
   "display_name": "Python 3",
   "language": "python",
   "name": "python3"
  },
  "language_info": {
   "codemirror_mode": {
    "name": "ipython",
    "version": 3
   },
   "file_extension": ".py",
   "mimetype": "text/x-python",
   "name": "python",
   "nbconvert_exporter": "python",
   "pygments_lexer": "ipython3",
   "version": "3.5.1"
  }
 },
 "nbformat": 4,
 "nbformat_minor": 0
}
